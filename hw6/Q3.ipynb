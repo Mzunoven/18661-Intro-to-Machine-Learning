{
 "cells": [
  {
   "cell_type": "markdown",
   "metadata": {},
   "source": [
    "\n",
    "Q3.(a)(b) GMM\n"
   ]
  },
  {
   "cell_type": "code",
   "execution_count": 21,
   "metadata": {},
   "outputs": [],
   "source": [
    "import numpy as np\n",
    "import matplotlib.pyplot as plt\n",
    "from sklearn.mixture import GaussianMixture\n",
    "from matplotlib.patches import Ellipse\n",
    "from scipy.stats import multivariate_normal\n",
    "\n",
    "# Load dataset\n",
    "dataset = np.loadtxt('/Users/muzo01/Cpp_projects/gmm_data.txt')\n",
    "# print(dataset.shape)\n",
    "X1 = dataset[:, 0:2]\n",
    "X2 = dataset[:, 2:4]\n",
    "X3 = dataset[:, 3:]\n",
    "# print(X3)"
   ]
  },
  {
   "cell_type": "code",
   "execution_count": 34,
   "metadata": {},
   "outputs": [],
   "source": [
    "# Question3.(a): GMM\n",
    "gmm = GaussianMixture(n_components=3, covariance_type='spherical', init_params='random').fit(dataset)\n",
    "miu = gmm.means_\n",
    "sigma = gmm.covariances_\n",
    "pi = gmm.weights_\n",
    "# print(miu.shape)"
   ]
  },
  {
   "cell_type": "code",
   "execution_count": 18,
   "metadata": {},
   "outputs": [
    {
     "data": {
      "image/png": "[encoded data removed]",
      "text/plain": [
       "<Figure size 432x288 with 3 Axes>"
      ]
     },
     "metadata": {
      "needs_background": "light"
     },
     "output_type": "display_data"
    }
   ],
   "source": [
    "# Question3.(b):\n",
    "gmm1 = GaussianMixture(n_components=3, covariance_type='spherical', init_params='random').fit(X1)\n",
    "gmm2 = GaussianMixture(n_components=3, covariance_type='spherical', init_params='random').fit(X2)\n",
    "gmm3 = GaussianMixture(n_components=3, covariance_type='spherical', init_params='random').fit(X3)\n",
    "label1 = gmm1.predict(X1)\n",
    "label2 = gmm2.predict(X2)\n",
    "label3 = gmm3.predict(X3)\n",
    "# print(label3)\n",
    "# colors = ['b', 'g', 'r']\n",
    "plt.figure()\n",
    "plt.subplot(221)\n",
    "plt.scatter(X1[:, 0], X1[:, 1], c=label1, cmap='brg_r', s=1)\n",
    "plt.subplot(222)\n",
    "plt.scatter(X2[:, 0], X2[:, 1], c=label2, cmap='brg_r', s=1)\n",
    "plt.subplot(223)\n",
    "plt.scatter(X3[:, 0], X3[:, 1], c=label3, cmap='brg_r', s=1)\n",
    "plt.show()"
   ]
  },
  {
   "cell_type": "markdown",
   "metadata": {},
   "source": [
    "\n",
    "3.(c) EM\n"
   ]
  },
  {
   "cell_type": "code",
   "execution_count": 38,
   "metadata": {},
   "outputs": [
    {
     "name": "stdout",
     "output_type": "stream",
     "text": [
      "[[-3.06176428e+00 -3.96696240e+00 -5.02048769e+00 -5.02021252e+00\n",
      "  -6.00420335e+00]\n",
      " [ 1.05250251e-02  4.16618640e-03  1.35683863e-02  1.00207924e-02\n",
      "  -2.47443547e-02]\n",
      " [ 2.99520441e+00  3.97929290e+00  4.93552594e+00  4.95000613e+00\n",
      "   6.02926365e+00]] \n",
      " [[-3.06176428e+00 -3.96696240e+00 -5.02048769e+00 -5.02021252e+00\n",
      "  -6.00420335e+00]\n",
      " [ 1.05250251e-02  4.16618640e-03  1.35683863e-02  1.00207924e-02\n",
      "  -2.47443547e-02]\n",
      " [ 2.99520441e+00  3.97929290e+00  4.93552594e+00  4.95000613e+00\n",
      "   6.02926365e+00]]\n"
     ]
    }
   ],
   "source": [
    "n_clusters = 3\n",
    "n_points = dataset.shape[0]\n",
    "# print(n_points)\n",
    "# W is the probability that each point belongs to each cluster\n",
    "W = np.ones((n_points, n_clusters)) / n_clusters\n",
    "# E step\n",
    "p = np.zeros((n_points, n_clusters))\n",
    "for i in range(n_clusters):\n",
    "    for j in range(n_points):\n",
    "        p[j, i] = pi[i] * multivariate_normal.pdf(dataset[j, :], miu[i], sigma[i])\n",
    "W = p / p.sum(axis=1).reshape(-1, 1)\n",
    "# print(miu[0])\n",
    "# M step: estimate miu\n",
    "miu_es = np.zeros((n_clusters, 5))\n",
    "for i in range(n_clusters):\n",
    "    miu_es[i] = np.average(dataset, axis=0, weights=W[:, i])\n",
    "print(miu, '\\n', miu_es)"
   ]
  },
  {
   "cell_type": "markdown",
   "metadata": {},
   "source": [
    "\n",
    "3.(d)\n"
   ]
  },
  {
   "cell_type": "code",
   "execution_count": 39,
   "metadata": {},
   "outputs": [
    {
     "name": "stdout",
     "output_type": "stream",
     "text": [
      "[0.33333333 0.33333333 0.33333333] \n",
      " [0.33333333 0.33333333 0.33333333]\n"
     ]
    }
   ],
   "source": [
    "# E step\n",
    "W = np.ones((n_points, n_clusters)) / n_clusters\n",
    "p = np.zeros((n_points, n_clusters))\n",
    "for i in range(n_clusters):\n",
    "    for j in range(n_points):\n",
    "        p[j, i] = pi[i] * multivariate_normal.pdf(dataset[j, :], miu[i], sigma[i])\n",
    "W = p / p.sum(axis=1).reshape(-1, 1)\n",
    "# update pi\n",
    "pi_u = np.zeros(3)\n",
    "pi_u = W.sum(axis=0) / W.sum()\n",
    "# M step: estimate miu\n",
    "for i in range(n_clusters):\n",
    "    miu_es[i] = np.average(dataset, axis=0, weights=W[:, i])\n",
    "print(pi, '\\n', pi_u)"
   ]
  }
 ],
 "metadata": {
  "kernelspec": {
   "display_name": "Python 3",
   "language": "python",
   "name": "python3"
  },
  "language_info": {
   "codemirror_mode": {
    "name": "ipython",
    "version": 3
   },
   "file_extension": ".py",
   "mimetype": "text/x-python",
   "name": "python",
   "nbconvert_exporter": "python",
   "pygments_lexer": "ipython3",
   "version": "3.7.3"
  }
 },
 "nbformat": 4,
 "nbformat_minor": 2
}
