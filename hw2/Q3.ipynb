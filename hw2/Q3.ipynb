{
 "cells": [
  {
   "cell_type": "markdown",
   "metadata": {
    "colab_type": "text",
    "id": "v8D5TQYmS9wX"
   },
   "source": [
    "# HW2 Coding Question"
   ]
  },
  {
   "cell_type": "markdown",
   "metadata": {
    "colab_type": "text",
    "id": "5VJhX36oS9wY"
   },
   "source": [
    "## Create model"
   ]
  },
  {
   "cell_type": "code",
   "execution_count": 2,
   "metadata": {
    "colab": {},
    "colab_type": "code",
    "id": "at7txbPfS9wZ"
   },
   "outputs": [],
   "source": [
    "import numpy as np\n",
    "import matplotlib.pyplot as plt\n",
    "import argparse\n",
    "import math\n",
    "import pandas as pd\n",
    "import os\n",
    "\n",
    "class Model(object):\n",
    "    \"\"\"\n",
    "     Ridge Regression(Linear Least Squares Regression with Tikhonov regularization).\n",
    "    \"\"\"\n",
    "    def __init__(self):\n",
    "        \"\"\"\n",
    "        Constructor\n",
    "        \"\"\"\n",
    "        self.beta = None\n",
    "\n",
    "    def fit(self, X, y, lamda):\n",
    "        \"\"\"\n",
    "        Fits the ridge regression model to the training data.\n",
    "\n",
    "        Arguments\n",
    "        ----------\n",
    "        X: nxp matrix of n examples with p independent variables\n",
    "        y: response variable vector for n examples\n",
    "        alpha: regularization parameter.\n",
    "        \"\"\"\n",
    "       \t# Your code here\n",
    "        # calculate w\n",
    "        I = np.eye(X.shape[1])\n",
    "        self.beta = np.linalg.inv((X.T).dot(X)+lamda*I).dot(X.T).dot(y)\n",
    "        return self.beta\n",
    "\n",
    "    def predict(self, X):\n",
    "        \"\"\"\n",
    "        Predicts the dependent variable of new data using the model.\n",
    "\n",
    "        Arguments\n",
    "        ----------\n",
    "        X: nxp matrix of n examples with p covariates\n",
    "\n",
    "        Returns\n",
    "        ----------\n",
    "        response variable vector for n examples\n",
    "        \"\"\"\n",
    "       \t# Your code here\n",
    "        return X.dot(self.beta)\n",
    "\n",
    "    def validate(self, X, y):\n",
    "        \"\"\"\n",
    "        Returns the RMSE(Root Mean Squared Error) when the model is validated.\n",
    "\n",
    "        Arguments\n",
    "        ----------\n",
    "        X: nxp matrix of n examples with p covariates\n",
    "        y: response variable vector for n examples\n",
    "\n",
    "        Returns\n",
    "        ----------\n",
    "        RMSE when model is used to predict y\n",
    "        \"\"\"\n",
    "       \t# Your code here\n",
    "        s = ((self.beta.T).dot(X.T).dot(X).dot(self.beta))-2*(((X.T).dot(y)).T).dot(self.beta)\n",
    "        return s"
   ]
  },
  {
   "cell_type": "markdown",
   "metadata": {
    "colab_type": "text",
    "id": "mj_RivRcS9wc"
   },
   "source": [
    "## Fit the model with data"
   ]
  },
  {
   "cell_type": "code",
   "execution_count": 5,
   "metadata": {
    "colab": {},
    "colab_type": "code",
    "id": "McHfz9FDS9wd"
   },
   "outputs": [
    {
     "data": {
      "text/plain": [
       "[<matplotlib.lines.Line2D at 0x1190f4080>]"
      ]
     },
     "execution_count": 5,
     "metadata": {},
     "output_type": "execute_result"
    },
    {
     "data": {
      "image/png": "[encoded data removed]",
      "text/plain": [
       "<Figure size 432x288 with 8 Axes>"
      ]
     },
     "metadata": {
      "needs_background": "light"
     },
     "output_type": "display_data"
    },
    {
     "data": {
      "image/png": "[encoded data removed]",
      "text/plain": [
       "<Figure size 432x288 with 1 Axes>"
      ]
     },
     "metadata": {
      "needs_background": "light"
     },
     "output_type": "display_data"
    }
   ],
   "source": [
    "#Read command line arguments\n",
    "\n",
    "# TODO: Modify the path to read your dataset\n",
    "\n",
    "X_train_path = \"/Users/muzo01/Cpp_projects/Xtraining.csv\"\n",
    "y_train_path = \"/Users/muzo01/Cpp_projects/Ytraining.csv\"\n",
    "X_val_path = \"/Users/muzo01/Cpp_projects/Xvalidation.csv\"\n",
    "y_val_path = \"/Users/muzo01/Cpp_projects/Yvalidation.csv\"\n",
    "X_test_path = \"/Users/muzo01/Cpp_projects/Xtesting.csv\"\n",
    "y_test_path = \"/Users/muzo01/Cpp_projects/Ytesting.csv\"\n",
    "\n",
    "#Parse training dataset\n",
    "X_train = np.genfromtxt(X_train_path, delimiter=',')\n",
    "y_train = np.genfromtxt(y_train_path, delimiter=',')\n",
    "\n",
    "#Parse validation set\n",
    "X_val = np.genfromtxt(X_val_path, delimiter=',')\n",
    "y_val = np.genfromtxt(y_val_path, delimiter=',')\n",
    "\n",
    "#Parse testing set\n",
    "X_test = np.genfromtxt(X_test_path, delimiter=',')\n",
    "y_test = np.genfromtxt(y_test_path, delimiter=',')\n",
    "\n",
    "#find the best regularization parameter\n",
    "# Your code here\n",
    "reg = Model()\n",
    "\n",
    "beta = np.zeros((X_train.shape[1],1000))\n",
    "j = 0\n",
    "for lamda in np.linspace(0.001, 2, num = 1000):\n",
    "    beta[:, j] = reg.fit(X_train, y_train, lamda)\n",
    "    j = j + 1\n",
    "\n",
    "fig, axs = plt.subplots(2, 4)\n",
    "fig.tight_layout()\n",
    "\n",
    "axs[0,0].plot(np.linspace(0.001, 2, num = 1000), beta[0, :])\n",
    "axs[0,1].plot(np.linspace(0.001, 2, num = 1000), beta[1, :])\n",
    "axs[0,2].plot(np.linspace(0.001, 2, num = 1000), beta[2, :])\n",
    "axs[0,3].plot(np.linspace(0.001, 2, num = 1000), beta[3, :])\n",
    "axs[1,0].plot(np.linspace(0.001, 2, num = 1000), beta[4, :])\n",
    "axs[1,1].plot(np.linspace(0.001, 2, num = 1000), beta[5, :])\n",
    "axs[1,2].plot(np.linspace(0.001, 2, num = 1000), beta[6, :])\n",
    "axs[1,3].plot(np.linspace(0.001, 2, num = 1000), beta[7, :])\n",
    "\n",
    "\n",
    "#plot rmse versus lambda\n",
    "# Your code here\n",
    "rmse = np.zeros(1000)\n",
    "j = 0\n",
    "for lamda in np.linspace(0.001, 2, num = 1000):\n",
    "    w = reg.fit(X_val, y_val, lamda)\n",
    "    su = 0\n",
    "    rss = reg.validate(X_val, y_val)\n",
    "    r = 0\n",
    "    for i in range(w.shape[0]):\n",
    "        su = su + lamda**2 * w[i]**2\n",
    "    for i in range(X_val.shape[0]):\n",
    "        r = (y_val[i] - (X_val[i,:]).dot(w))**2\n",
    "    \n",
    "    rmse[j] = r + su\n",
    "    j = j + 1\n",
    "\n",
    "plt.figure(2)\n",
    "plt.plot(np.linspace(0.001, 2, num = 1000), rmse)\n",
    "\n",
    "#plot predicted versus real value\n",
    "# Your code here\n",
    "\n",
    "#plot regression coefficients\n",
    "# Your code here"
   ]
  },
  {
   "cell_type": "markdown",
   "metadata": {},
   "source": [
    "In the coefficient figure, we noticed that as λ increase, each coefficient of the vector β decreased toward 0.\n",
    "In the RMSE plot, we could find the λ* = 0.011 would achive the minimum RMSE"
   ]
  },
  {
   "cell_type": "code",
   "execution_count": 6,
   "metadata": {},
   "outputs": [
    {
     "data": {
      "text/plain": [
       "[<matplotlib.lines.Line2D at 0x11918f6a0>]"
      ]
     },
     "execution_count": 6,
     "metadata": {},
     "output_type": "execute_result"
    },
    {
     "data": {
      "image/png": "[encoded data removed]",
      "text/plain": [
       "<Figure size 432x288 with 1 Axes>"
      ]
     },
     "metadata": {
      "needs_background": "light"
     },
     "output_type": "display_data"
    }
   ],
   "source": [
    "lamda = 0.011\n",
    "reg.fit(X_test, y_test, lamda)\n",
    "Xt = reg.predict(X_test)\n",
    "xs, ys = zip(*sorted(zip(Xt, y_test)))\n",
    "plt.plot(xs, ys)"
   ]
  }
 ],
 "metadata": {
  "colab": {
   "name": "ridge_base.ipynb",
   "provenance": []
  },
  "kernelspec": {
   "display_name": "Python 3",
   "language": "python",
   "name": "python3"
  },
  "language_info": {
   "codemirror_mode": {
    "name": "ipython",
    "version": 3
   },
   "file_extension": ".py",
   "mimetype": "text/x-python",
   "name": "python",
   "nbconvert_exporter": "python",
   "pygments_lexer": "ipython3",
   "version": "3.7.3"
  }
 },
 "nbformat": 4,
 "nbformat_minor": 1
}
